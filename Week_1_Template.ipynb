{
  "cells": [
    {
      "cell_type": "markdown",
      "metadata": {
        "id": "wxKNgUhRLAwD"
      },
      "source": [
        "# Solution - Problem Set 1"
      ]
    },
    {
      "cell_type": "markdown",
      "metadata": {
        "id": "nS4C_IlTLEvi"
      },
      "source": [
        "## Preparation"
      ]
    },
    {
      "cell_type": "code",
      "execution_count": 1,
      "metadata": {
        "colab": {
          "base_uri": "https://localhost:8080/"
        },
        "id": "bxyfs1edBLuT",
        "outputId": "3636ce4d-5dc3-4be4-8265-c75640c59997"
      },
      "outputs": [
        {
          "output_type": "stream",
          "name": "stdout",
          "text": [
            "Mounted at /content/drive\n"
          ]
        }
      ],
      "source": [
        "# You will need the shared Google drive https://drive.google.com/drive/u/1/folders/0ALmMMRrzz_-5Uk9PVA\n",
        "from google.colab import drive\n",
        "drive.mount(\"/content/drive\",force_remount=True)\n",
        "!mkdir -p datashim\n",
        "!cp /content/drive/Shareddrives/DS602-F22/Data/data602.py ./datashim\n",
        "from datashim import data602"
      ]
    },
    {
      "cell_type": "code",
      "execution_count": 2,
      "metadata": {
        "id": "k6KwqWpM5VqR"
      },
      "outputs": [],
      "source": [
        "#load the citation and weather datasets\n",
        "cdf = data602.read_citations()\n",
        "wdf = data602.read_weather()"
      ]
    },
    {
      "cell_type": "markdown",
      "metadata": {
        "id": "ukRW9IhlWBbt"
      },
      "source": [
        "## Question 1 -- Data Exploration"
      ]
    },
    {
      "cell_type": "markdown",
      "metadata": {
        "id": "7o61g4aGWFYr"
      },
      "source": [
        "### Part A\n",
        "Over the entire dataset, which observations had the hottest and coldest temperatures?  What were those temperatures?"
      ]
    },
    {
      "cell_type": "code",
      "execution_count": 3,
      "metadata": {
        "id": "L_JSTLvrXh_T",
        "colab": {
          "base_uri": "https://localhost:8080/",
          "height": 206
        },
        "outputId": "72dff7d5-6a91-49d9-e8b3-76fcfb90f86e"
      },
      "outputs": [
        {
          "output_type": "execute_result",
          "data": {
            "text/plain": [
              "                       date  wnd_speed  tmp_meas  precip  precip_intensity  \\\n",
              "0 2015-12-31 19:54:00-05:00        1.5       7.2     0.0                 0   \n",
              "1 2015-12-31 20:54:00-05:00        3.1       6.1     0.0                 0   \n",
              "2 2015-12-31 21:54:00-05:00        2.1       6.7     0.0                 0   \n",
              "3 2015-12-31 22:54:00-05:00        2.6       6.1     0.0                 0   \n",
              "4 2015-12-31 23:54:00-05:00        2.1       5.6     0.0                 0   \n",
              "\n",
              "   cloudcover  tstorm  winter  mist  fog  \n",
              "0         4.0       0       0     0    0  \n",
              "1         4.0       0       0     0    0  \n",
              "2         4.0       0       0     0    0  \n",
              "3         4.0       0       0     0    0  \n",
              "4         4.0       0       0     0    0  "
            ],
            "text/html": [
              "\n",
              "  <div id=\"df-dc3f20ed-0e99-46be-b42e-df315bf0a46a\" class=\"colab-df-container\">\n",
              "    <div>\n",
              "<style scoped>\n",
              "    .dataframe tbody tr th:only-of-type {\n",
              "        vertical-align: middle;\n",
              "    }\n",
              "\n",
              "    .dataframe tbody tr th {\n",
              "        vertical-align: top;\n",
              "    }\n",
              "\n",
              "    .dataframe thead th {\n",
              "        text-align: right;\n",
              "    }\n",
              "</style>\n",
              "<table border=\"1\" class=\"dataframe\">\n",
              "  <thead>\n",
              "    <tr style=\"text-align: right;\">\n",
              "      <th></th>\n",
              "      <th>date</th>\n",
              "      <th>wnd_speed</th>\n",
              "      <th>tmp_meas</th>\n",
              "      <th>precip</th>\n",
              "      <th>precip_intensity</th>\n",
              "      <th>cloudcover</th>\n",
              "      <th>tstorm</th>\n",
              "      <th>winter</th>\n",
              "      <th>mist</th>\n",
              "      <th>fog</th>\n",
              "    </tr>\n",
              "  </thead>\n",
              "  <tbody>\n",
              "    <tr>\n",
              "      <th>0</th>\n",
              "      <td>2015-12-31 19:54:00-05:00</td>\n",
              "      <td>1.5</td>\n",
              "      <td>7.2</td>\n",
              "      <td>0.0</td>\n",
              "      <td>0</td>\n",
              "      <td>4.0</td>\n",
              "      <td>0</td>\n",
              "      <td>0</td>\n",
              "      <td>0</td>\n",
              "      <td>0</td>\n",
              "    </tr>\n",
              "    <tr>\n",
              "      <th>1</th>\n",
              "      <td>2015-12-31 20:54:00-05:00</td>\n",
              "      <td>3.1</td>\n",
              "      <td>6.1</td>\n",
              "      <td>0.0</td>\n",
              "      <td>0</td>\n",
              "      <td>4.0</td>\n",
              "      <td>0</td>\n",
              "      <td>0</td>\n",
              "      <td>0</td>\n",
              "      <td>0</td>\n",
              "    </tr>\n",
              "    <tr>\n",
              "      <th>2</th>\n",
              "      <td>2015-12-31 21:54:00-05:00</td>\n",
              "      <td>2.1</td>\n",
              "      <td>6.7</td>\n",
              "      <td>0.0</td>\n",
              "      <td>0</td>\n",
              "      <td>4.0</td>\n",
              "      <td>0</td>\n",
              "      <td>0</td>\n",
              "      <td>0</td>\n",
              "      <td>0</td>\n",
              "    </tr>\n",
              "    <tr>\n",
              "      <th>3</th>\n",
              "      <td>2015-12-31 22:54:00-05:00</td>\n",
              "      <td>2.6</td>\n",
              "      <td>6.1</td>\n",
              "      <td>0.0</td>\n",
              "      <td>0</td>\n",
              "      <td>4.0</td>\n",
              "      <td>0</td>\n",
              "      <td>0</td>\n",
              "      <td>0</td>\n",
              "      <td>0</td>\n",
              "    </tr>\n",
              "    <tr>\n",
              "      <th>4</th>\n",
              "      <td>2015-12-31 23:54:00-05:00</td>\n",
              "      <td>2.1</td>\n",
              "      <td>5.6</td>\n",
              "      <td>0.0</td>\n",
              "      <td>0</td>\n",
              "      <td>4.0</td>\n",
              "      <td>0</td>\n",
              "      <td>0</td>\n",
              "      <td>0</td>\n",
              "      <td>0</td>\n",
              "    </tr>\n",
              "  </tbody>\n",
              "</table>\n",
              "</div>\n",
              "    <div class=\"colab-df-buttons\">\n",
              "\n",
              "  <div class=\"colab-df-container\">\n",
              "    <button class=\"colab-df-convert\" onclick=\"convertToInteractive('df-dc3f20ed-0e99-46be-b42e-df315bf0a46a')\"\n",
              "            title=\"Convert this dataframe to an interactive table.\"\n",
              "            style=\"display:none;\">\n",
              "\n",
              "  <svg xmlns=\"http://www.w3.org/2000/svg\" height=\"24px\" viewBox=\"0 -960 960 960\">\n",
              "    <path d=\"M120-120v-720h720v720H120Zm60-500h600v-160H180v160Zm220 220h160v-160H400v160Zm0 220h160v-160H400v160ZM180-400h160v-160H180v160Zm440 0h160v-160H620v160ZM180-180h160v-160H180v160Zm440 0h160v-160H620v160Z\"/>\n",
              "  </svg>\n",
              "    </button>\n",
              "\n",
              "  <style>\n",
              "    .colab-df-container {\n",
              "      display:flex;\n",
              "      gap: 12px;\n",
              "    }\n",
              "\n",
              "    .colab-df-convert {\n",
              "      background-color: #E8F0FE;\n",
              "      border: none;\n",
              "      border-radius: 50%;\n",
              "      cursor: pointer;\n",
              "      display: none;\n",
              "      fill: #1967D2;\n",
              "      height: 32px;\n",
              "      padding: 0 0 0 0;\n",
              "      width: 32px;\n",
              "    }\n",
              "\n",
              "    .colab-df-convert:hover {\n",
              "      background-color: #E2EBFA;\n",
              "      box-shadow: 0px 1px 2px rgba(60, 64, 67, 0.3), 0px 1px 3px 1px rgba(60, 64, 67, 0.15);\n",
              "      fill: #174EA6;\n",
              "    }\n",
              "\n",
              "    .colab-df-buttons div {\n",
              "      margin-bottom: 4px;\n",
              "    }\n",
              "\n",
              "    [theme=dark] .colab-df-convert {\n",
              "      background-color: #3B4455;\n",
              "      fill: #D2E3FC;\n",
              "    }\n",
              "\n",
              "    [theme=dark] .colab-df-convert:hover {\n",
              "      background-color: #434B5C;\n",
              "      box-shadow: 0px 1px 3px 1px rgba(0, 0, 0, 0.15);\n",
              "      filter: drop-shadow(0px 1px 2px rgba(0, 0, 0, 0.3));\n",
              "      fill: #FFFFFF;\n",
              "    }\n",
              "  </style>\n",
              "\n",
              "    <script>\n",
              "      const buttonEl =\n",
              "        document.querySelector('#df-dc3f20ed-0e99-46be-b42e-df315bf0a46a button.colab-df-convert');\n",
              "      buttonEl.style.display =\n",
              "        google.colab.kernel.accessAllowed ? 'block' : 'none';\n",
              "\n",
              "      async function convertToInteractive(key) {\n",
              "        const element = document.querySelector('#df-dc3f20ed-0e99-46be-b42e-df315bf0a46a');\n",
              "        const dataTable =\n",
              "          await google.colab.kernel.invokeFunction('convertToInteractive',\n",
              "                                                    [key], {});\n",
              "        if (!dataTable) return;\n",
              "\n",
              "        const docLinkHtml = 'Like what you see? Visit the ' +\n",
              "          '<a target=\"_blank\" href=https://colab.research.google.com/notebooks/data_table.ipynb>data table notebook</a>'\n",
              "          + ' to learn more about interactive tables.';\n",
              "        element.innerHTML = '';\n",
              "        dataTable['output_type'] = 'display_data';\n",
              "        await google.colab.output.renderOutput(dataTable, element);\n",
              "        const docLink = document.createElement('div');\n",
              "        docLink.innerHTML = docLinkHtml;\n",
              "        element.appendChild(docLink);\n",
              "      }\n",
              "    </script>\n",
              "  </div>\n",
              "\n",
              "\n",
              "<div id=\"df-1189b490-140a-4621-ab9e-06e016ec4d6d\">\n",
              "  <button class=\"colab-df-quickchart\" onclick=\"quickchart('df-1189b490-140a-4621-ab9e-06e016ec4d6d')\"\n",
              "            title=\"Suggest charts\"\n",
              "            style=\"display:none;\">\n",
              "\n",
              "<svg xmlns=\"http://www.w3.org/2000/svg\" height=\"24px\"viewBox=\"0 0 24 24\"\n",
              "     width=\"24px\">\n",
              "    <g>\n",
              "        <path d=\"M19 3H5c-1.1 0-2 .9-2 2v14c0 1.1.9 2 2 2h14c1.1 0 2-.9 2-2V5c0-1.1-.9-2-2-2zM9 17H7v-7h2v7zm4 0h-2V7h2v10zm4 0h-2v-4h2v4z\"/>\n",
              "    </g>\n",
              "</svg>\n",
              "  </button>\n",
              "\n",
              "<style>\n",
              "  .colab-df-quickchart {\n",
              "      --bg-color: #E8F0FE;\n",
              "      --fill-color: #1967D2;\n",
              "      --hover-bg-color: #E2EBFA;\n",
              "      --hover-fill-color: #174EA6;\n",
              "      --disabled-fill-color: #AAA;\n",
              "      --disabled-bg-color: #DDD;\n",
              "  }\n",
              "\n",
              "  [theme=dark] .colab-df-quickchart {\n",
              "      --bg-color: #3B4455;\n",
              "      --fill-color: #D2E3FC;\n",
              "      --hover-bg-color: #434B5C;\n",
              "      --hover-fill-color: #FFFFFF;\n",
              "      --disabled-bg-color: #3B4455;\n",
              "      --disabled-fill-color: #666;\n",
              "  }\n",
              "\n",
              "  .colab-df-quickchart {\n",
              "    background-color: var(--bg-color);\n",
              "    border: none;\n",
              "    border-radius: 50%;\n",
              "    cursor: pointer;\n",
              "    display: none;\n",
              "    fill: var(--fill-color);\n",
              "    height: 32px;\n",
              "    padding: 0;\n",
              "    width: 32px;\n",
              "  }\n",
              "\n",
              "  .colab-df-quickchart:hover {\n",
              "    background-color: var(--hover-bg-color);\n",
              "    box-shadow: 0 1px 2px rgba(60, 64, 67, 0.3), 0 1px 3px 1px rgba(60, 64, 67, 0.15);\n",
              "    fill: var(--button-hover-fill-color);\n",
              "  }\n",
              "\n",
              "  .colab-df-quickchart-complete:disabled,\n",
              "  .colab-df-quickchart-complete:disabled:hover {\n",
              "    background-color: var(--disabled-bg-color);\n",
              "    fill: var(--disabled-fill-color);\n",
              "    box-shadow: none;\n",
              "  }\n",
              "\n",
              "  .colab-df-spinner {\n",
              "    border: 2px solid var(--fill-color);\n",
              "    border-color: transparent;\n",
              "    border-bottom-color: var(--fill-color);\n",
              "    animation:\n",
              "      spin 1s steps(1) infinite;\n",
              "  }\n",
              "\n",
              "  @keyframes spin {\n",
              "    0% {\n",
              "      border-color: transparent;\n",
              "      border-bottom-color: var(--fill-color);\n",
              "      border-left-color: var(--fill-color);\n",
              "    }\n",
              "    20% {\n",
              "      border-color: transparent;\n",
              "      border-left-color: var(--fill-color);\n",
              "      border-top-color: var(--fill-color);\n",
              "    }\n",
              "    30% {\n",
              "      border-color: transparent;\n",
              "      border-left-color: var(--fill-color);\n",
              "      border-top-color: var(--fill-color);\n",
              "      border-right-color: var(--fill-color);\n",
              "    }\n",
              "    40% {\n",
              "      border-color: transparent;\n",
              "      border-right-color: var(--fill-color);\n",
              "      border-top-color: var(--fill-color);\n",
              "    }\n",
              "    60% {\n",
              "      border-color: transparent;\n",
              "      border-right-color: var(--fill-color);\n",
              "    }\n",
              "    80% {\n",
              "      border-color: transparent;\n",
              "      border-right-color: var(--fill-color);\n",
              "      border-bottom-color: var(--fill-color);\n",
              "    }\n",
              "    90% {\n",
              "      border-color: transparent;\n",
              "      border-bottom-color: var(--fill-color);\n",
              "    }\n",
              "  }\n",
              "</style>\n",
              "\n",
              "  <script>\n",
              "    async function quickchart(key) {\n",
              "      const quickchartButtonEl =\n",
              "        document.querySelector('#' + key + ' button');\n",
              "      quickchartButtonEl.disabled = true;  // To prevent multiple clicks.\n",
              "      quickchartButtonEl.classList.add('colab-df-spinner');\n",
              "      try {\n",
              "        const charts = await google.colab.kernel.invokeFunction(\n",
              "            'suggestCharts', [key], {});\n",
              "      } catch (error) {\n",
              "        console.error('Error during call to suggestCharts:', error);\n",
              "      }\n",
              "      quickchartButtonEl.classList.remove('colab-df-spinner');\n",
              "      quickchartButtonEl.classList.add('colab-df-quickchart-complete');\n",
              "    }\n",
              "    (() => {\n",
              "      let quickchartButtonEl =\n",
              "        document.querySelector('#df-1189b490-140a-4621-ab9e-06e016ec4d6d button');\n",
              "      quickchartButtonEl.style.display =\n",
              "        google.colab.kernel.accessAllowed ? 'block' : 'none';\n",
              "    })();\n",
              "  </script>\n",
              "</div>\n",
              "\n",
              "    </div>\n",
              "  </div>\n"
            ],
            "application/vnd.google.colaboratory.intrinsic+json": {
              "type": "dataframe",
              "variable_name": "wdf",
              "summary": "{\n  \"name\": \"wdf\",\n  \"rows\": 67203,\n  \"fields\": [\n    {\n      \"column\": \"date\",\n      \"properties\": {\n        \"dtype\": \"date\",\n        \"min\": \"2015-12-31 19:54:00-05:00\",\n        \"max\": \"2023-09-01 19:54:00-04:00\",\n        \"num_unique_values\": 67203,\n        \"samples\": [\n          \"2017-02-07 21:54:00-05:00\",\n          \"2018-08-19 05:54:00-04:00\",\n          \"2019-09-18 01:54:00-04:00\"\n        ],\n        \"semantic_type\": \"\",\n        \"description\": \"\"\n      }\n    },\n    {\n      \"column\": \"wnd_speed\",\n      \"properties\": {\n        \"dtype\": \"number\",\n        \"std\": 2.2973958085031136,\n        \"min\": 0.0,\n        \"max\": 19.0,\n        \"num_unique_values\": 35,\n        \"samples\": [\n          12.9,\n          4.1,\n          13.4\n        ],\n        \"semantic_type\": \"\",\n        \"description\": \"\"\n      }\n    },\n    {\n      \"column\": \"tmp_meas\",\n      \"properties\": {\n        \"dtype\": \"number\",\n        \"std\": 10.071505074394503,\n        \"min\": -16.1,\n        \"max\": 37.8,\n        \"num_unique_values\": 111,\n        \"samples\": [\n          30.6,\n          0.6,\n          5.0\n        ],\n        \"semantic_type\": \"\",\n        \"description\": \"\"\n      }\n    },\n    {\n      \"column\": \"precip\",\n      \"properties\": {\n        \"dtype\": \"number\",\n        \"std\": 1.0433885481963678,\n        \"min\": 0.0,\n        \"max\": 78.7,\n        \"num_unique_values\": 108,\n        \"samples\": [\n          21.3,\n          1.2,\n          4.1\n        ],\n        \"semantic_type\": \"\",\n        \"description\": \"\"\n      }\n    },\n    {\n      \"column\": \"precip_intensity\",\n      \"properties\": {\n        \"dtype\": \"number\",\n        \"std\": 0,\n        \"min\": 0,\n        \"max\": 3,\n        \"num_unique_values\": 4,\n        \"samples\": [\n          1,\n          3,\n          0\n        ],\n        \"semantic_type\": \"\",\n        \"description\": \"\"\n      }\n    },\n    {\n      \"column\": \"cloudcover\",\n      \"properties\": {\n        \"dtype\": \"number\",\n        \"std\": 1.288491024271889,\n        \"min\": 0.0,\n        \"max\": 5.0,\n        \"num_unique_values\": 6,\n        \"samples\": [\n          4.0,\n          3.0,\n          5.0\n        ],\n        \"semantic_type\": \"\",\n        \"description\": \"\"\n      }\n    },\n    {\n      \"column\": \"tstorm\",\n      \"properties\": {\n        \"dtype\": \"number\",\n        \"std\": 0,\n        \"min\": 0,\n        \"max\": 1,\n        \"num_unique_values\": 2,\n        \"samples\": [\n          1,\n          0\n        ],\n        \"semantic_type\": \"\",\n        \"description\": \"\"\n      }\n    },\n    {\n      \"column\": \"winter\",\n      \"properties\": {\n        \"dtype\": \"number\",\n        \"std\": 0,\n        \"min\": 0,\n        \"max\": 1,\n        \"num_unique_values\": 2,\n        \"samples\": [\n          1,\n          0\n        ],\n        \"semantic_type\": \"\",\n        \"description\": \"\"\n      }\n    },\n    {\n      \"column\": \"mist\",\n      \"properties\": {\n        \"dtype\": \"number\",\n        \"std\": 0,\n        \"min\": 0,\n        \"max\": 1,\n        \"num_unique_values\": 2,\n        \"samples\": [\n          1,\n          0\n        ],\n        \"semantic_type\": \"\",\n        \"description\": \"\"\n      }\n    },\n    {\n      \"column\": \"fog\",\n      \"properties\": {\n        \"dtype\": \"number\",\n        \"std\": 0,\n        \"min\": 0,\n        \"max\": 1,\n        \"num_unique_values\": 2,\n        \"samples\": [\n          1,\n          0\n        ],\n        \"semantic_type\": \"\",\n        \"description\": \"\"\n      }\n    }\n  ]\n}"
            }
          },
          "metadata": {},
          "execution_count": 3
        }
      ],
      "source": [
        "wdf.head()"
      ]
    },
    {
      "cell_type": "code",
      "source": [
        "import pandas as pd\n",
        "from tabulate import tabulate #to produce output in tabluar form\n",
        "\n",
        "#hotetst temperature and observation\n",
        "hottest_temp = wdf['tmp_meas'].max()\n",
        "hottest_rows = wdf[wdf['tmp_meas'] == hottest_temp]\n",
        "\n",
        "#coldest temperature and observation\n",
        "coldest_temp = wdf['tmp_meas'].min()\n",
        "coldest_rows = wdf[wdf['tmp_meas'] == coldest_temp]\n",
        "\n",
        "# Print hottest temperature in a table\n",
        "print(f\"Hottest Temperature: {hottest_temp}\")\n",
        "print(\"Observations with Hottest Temperature:\")\n",
        "print(tabulate(hottest_rows, headers='keys', showindex=False, tablefmt='psql'))\n",
        "\n",
        "print(\"\\n\")\n",
        "\n",
        "# Print coldest temperature in a table\n",
        "print(f\"Coldest Temperature: {coldest_temp}\")\n",
        "print(\"Observations with Coldest Temperature:\")\n",
        "print(tabulate(coldest_rows, headers='keys', showindex=False, tablefmt='psql'))\n"
      ],
      "metadata": {
        "colab": {
          "base_uri": "https://localhost:8080/"
        },
        "id": "a27xePySt0NB",
        "outputId": "dcc43cf7-f7b7-489c-a1a6-687a33242043"
      },
      "execution_count": 4,
      "outputs": [
        {
          "output_type": "stream",
          "name": "stdout",
          "text": [
            "Hottest Temperature: 37.8\n",
            "Observations with Hottest Temperature:\n",
            "+---------------------------+-------------+------------+----------+--------------------+--------------+----------+----------+--------+-------+\n",
            "| date                      |   wnd_speed |   tmp_meas |   precip |   precip_intensity |   cloudcover |   tstorm |   winter |   mist |   fog |\n",
            "|---------------------------+-------------+------------+----------+--------------------+--------------+----------+----------+--------+-------|\n",
            "| 2020-07-20 16:54:00-04:00 |         5.7 |       37.8 |        0 |                  0 |            2 |        0 |        0 |      0 |     0 |\n",
            "+---------------------------+-------------+------------+----------+--------------------+--------------+----------+----------+--------+-------+\n",
            "\n",
            "\n",
            "Coldest Temperature: -16.1\n",
            "Observations with Coldest Temperature:\n",
            "+---------------------------+-------------+------------+----------+--------------------+--------------+----------+----------+--------+-------+\n",
            "| date                      |   wnd_speed |   tmp_meas |   precip |   precip_intensity |   cloudcover |   tstorm |   winter |   mist |   fog |\n",
            "|---------------------------+-------------+------------+----------+--------------------+--------------+----------+----------+--------+-------|\n",
            "| 2018-01-07 04:54:00-05:00 |         2.1 |      -16.1 |        0 |                  0 |            0 |        0 |        0 |      0 |     0 |\n",
            "| 2018-01-07 06:54:00-05:00 |         0   |      -16.1 |        0 |                  0 |            0 |        0 |        0 |      0 |     0 |\n",
            "+---------------------------+-------------+------------+----------+--------------------+--------------+----------+----------+--------+-------+\n"
          ]
        }
      ]
    },
    {
      "cell_type": "markdown",
      "metadata": {
        "id": "JP1r_bV3Xh_U"
      },
      "source": [
        "\n",
        "### Part B\n",
        "In 2022, what month had the hottest average temperature?  The coldest?"
      ]
    },
    {
      "cell_type": "code",
      "execution_count": null,
      "metadata": {
        "id": "CA4AjuX6Xh_U"
      },
      "outputs": [],
      "source": []
    },
    {
      "cell_type": "markdown",
      "metadata": {
        "id": "69Yrea8gXh_U"
      },
      "source": [
        "\n",
        "### Part C\n",
        "In 2022, how many days were associated with rain (i.e., liquid precipitation exceeding zero for at least one observation)?\n"
      ]
    },
    {
      "cell_type": "code",
      "execution_count": null,
      "metadata": {
        "id": "xD3GtZmaXh_V"
      },
      "outputs": [],
      "source": []
    },
    {
      "cell_type": "markdown",
      "metadata": {
        "id": "weaiOZZ92hQw"
      },
      "source": [
        "## Question 2 -- Identifying 'interesting' patterns\n",
        "\n",
        "Frawley, et al., define a pattern as 'interesting' if it is \"novel, useful, and non-trivial to compute.\"  Explore either the weather or citations dataset to identify an interesting pattern.  Describe the pattern and why it is novel, useful, and non-trivial."
      ]
    },
    {
      "cell_type": "markdown",
      "metadata": {
        "id": "1amP39ixXh_V"
      },
      "source": []
    },
    {
      "cell_type": "markdown",
      "metadata": {
        "id": "JTKDn4pCRTDx"
      },
      "source": [
        "## Question 3 -- Machine Learning, Safety, and Fairness\n",
        "\n",
        "Choose one of the examples of unfairness in machine learning discussed in class (or choose your own example), and answer the following questions.  \n",
        "\n",
        "a. Mehrabi et al. define fairness in machine learning as \"absence of any prejudice or favoritism toward an individual or group based on their inherent or acquired characteristics\".  Using this definition, how did the application of the machine learning approach result in an unfair outcome?\n",
        "\n",
        "b. What practices, if any, mitigated the impact of the algorithm's unfairness?\n",
        "\n",
        "c. What lessons can be learned from this example?\n"
      ]
    },
    {
      "cell_type": "markdown",
      "metadata": {
        "id": "HgHT2wHoXh_W"
      },
      "source": []
    }
  ],
  "metadata": {
    "colab": {
      "provenance": []
    },
    "kernelspec": {
      "display_name": "Python 3",
      "name": "python3"
    },
    "language_info": {
      "name": "python"
    }
  },
  "nbformat": 4,
  "nbformat_minor": 0
}