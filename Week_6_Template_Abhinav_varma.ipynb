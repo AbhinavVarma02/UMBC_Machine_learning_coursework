{
  "cells": [
    {
      "cell_type": "markdown",
      "metadata": {
        "id": "kzF3fX35cm1g"
      },
      "source": [
        "# Setup\n",
        "For the below problems, use the `MNIST_784` data set from OpenML.  Prior to using the data, scale the data and split into a test and training dataset.  The first 60,000 images are available to use as training data, and the remaining 10,000 images as test data."
      ]
    },
    {
      "cell_type": "code",
      "execution_count": null,
      "metadata": {
        "id": "4ugjvK28cyKf"
      },
      "outputs": [],
      "source": [
        "from sklearn.datasets import fetch_openml\n",
        "from sklearn.preprocessing import MinMaxScaler\n",
        "import numpy as np\n",
        "import matplotlib.pyplot as plt"
      ]
    },
    {
      "cell_type": "code",
      "execution_count": null,
      "metadata": {
        "id": "P7FSdKMkciDn"
      },
      "outputs": [],
      "source": [
        "#fetch OpenML data\n",
        "X, y = fetch_openml('mnist_784', version=1, return_X_y=True, as_frame=False)\n",
        "\n",
        "#split into test/validation/training sets\n",
        "train_bound = slice(0, 10_000)\n",
        "val_bound = slice(10_000,20_000)\n",
        "test_bound = slice(60_000, None)\n",
        "partition = lambda X, y, slc: (X[slc], y[slc])\n",
        "X_train, y_train = partition(X, y, train_bound)\n",
        "X_val, y_val = partition(X, y, val_bound)\n",
        "X_test, y_test = partition(X, y, test_bound)"
      ]
    },
    {
      "cell_type": "markdown",
      "metadata": {
        "id": "QiHGSrOgeLXF"
      },
      "source": [
        "## Problem 1: Dimensionality Reduction (30 pts)\n",
        "Scale the training dataset.  Using principal component analysis (PCA), reduce the dimensionality of the training images to include 75\\% of the original variance.  How many components remain following the dimensionality reduction?  Finally, apply the scaling and PCA transformations to the validation and test datasets."
      ]
    },
    {
      "cell_type": "code",
      "execution_count": null,
      "metadata": {
        "id": "UDL0kP_r4yK1",
        "outputId": "f4743f15-19fd-4f26-cd40-adf891cf885b",
        "colab": {
          "base_uri": "https://localhost:8080/"
        }
      },
      "outputs": [
        {
          "output_type": "stream",
          "name": "stdout",
          "text": [
            "Number of components remaining after PCA: 33\n"
          ]
        }
      ],
      "source": [
        "from sklearn.decomposition import PCA\n",
        "from sklearn.preprocessing import MinMaxScaler\n",
        "import numpy as np\n",
        "\n",
        "# Normalize the training data using MinMaxScaler\n",
        "scaler = MinMaxScaler()\n",
        "X_train_scaled = scaler.fit_transform(X_train)\n",
        "\n",
        "# Determine the number of components needed for 75% variance\n",
        "pca_full = PCA().fit(X_train_scaled)\n",
        "cumulative_variance = np.cumsum(pca_full.explained_variance_ratio_)\n",
        "n_components = np.argmax(cumulative_variance >= 0.75) + 1  # Find first component reaching 75% variance\n",
        "\n",
        "# Apply PCA with the determined number of components\n",
        "pca = PCA(n_components=n_components)\n",
        "X_train_reduced = pca.fit_transform(X_train_scaled)\n",
        "\n",
        "# Transform the test set\n",
        "X_test_scaled = scaler.transform(X_test)\n",
        "X_test_reduced = pca.transform(X_test_scaled)\n",
        "\n",
        "print(\"Number of components remaining after PCA:\", n_components)\n"
      ]
    },
    {
      "cell_type": "markdown",
      "metadata": {
        "id": "Ku4oFcn8fbKk"
      },
      "source": [
        "# Problem 2: Support Vector Machines (50 pts)\n",
        "\n",
        "Using the dimensionality-reduced dataset from the previous problem, train a support vector machine to classify whether a digit is less than 5 (i.e., $y \\in \\left\\{0, 1, 2, 3, 4\\right\\}$).  Find a set of hyperparameters, to include the kernel function and $C$, that maximize the $F_1$ score.  The best-performing model should have an $F_1$ score of at least 0.93.\n",
        "\n",
        "Notes:\n",
        "* You may want to initially search $C$ over several orders of magnitude.  Consider initially searching with \\texttt{np.logspace}.\n",
        "* The hyperparameter selection may take a long time to run.  If using Google Colab, you may want to save or print the model so the work is not lost if the model reconnects.  See [Scikit-learn documentation](https://scikit-learn.org/stable/modules/model_persistence.html) for details.\n",
        "* As noted in class, the `LinearSVC` class is more efficient than `SVC(kernel='linear')` for a linear SVC."
      ]
    },
    {
      "cell_type": "code",
      "execution_count": null,
      "metadata": {
        "id": "-NORzlQZ4y4Q",
        "outputId": "c8b839b9-7338-47f8-f3b5-a57c12bc54b4",
        "colab": {
          "base_uri": "https://localhost:8080/"
        }
      },
      "outputs": [
        {
          "output_type": "stream",
          "name": "stdout",
          "text": [
            "Fitting 5 folds for each of 25 candidates, totalling 125 fits\n",
            "Fitting 5 folds for each of 5 candidates, totalling 25 fits\n",
            "Best Model: SVC (Poly Kernel)\n",
            "Best Estimator: Pipeline(steps=[('scaler', StandardScaler()),\n",
            "                ('svc', SVC(gamma=1.0, kernel='poly'))])\n",
            "Best Score: 0.9546284953860136\n"
          ]
        }
      ],
      "source": [
        "import numpy as np\n",
        "from sklearn.svm import SVC, LinearSVC\n",
        "from sklearn.pipeline import Pipeline\n",
        "from sklearn.preprocessing import StandardScaler\n",
        "from sklearn.model_selection import GridSearchCV\n",
        "\n",
        "# Convert labels for binary classification\n",
        "y_train_binary = (y_train.astype(int) < 5).astype(int)\n",
        "y_test_binary = (y_test.astype(int) < 5).astype(int)\n",
        "y_val_binary = (y_val.astype(int) < 5).astype(int)\n",
        "\n",
        "# Define hyperparameter grids\n",
        "param_grid_svc = {'svc__C': np.logspace(0, 6, 5), 'svc__kernel': ['poly'], 'svc__gamma': np.logspace(0, 6, 5)}\n",
        "param_grid_linsvc = {'linearsvc__C': np.logspace(0, 6, 5)}\n",
        "\n",
        "# Create pipelines for SVC and LinearSVC\n",
        "pipeline_svc = Pipeline([\n",
        "    ('scaler', StandardScaler()),  # Standardize before applying SVM\n",
        "    ('svc', SVC())\n",
        "])\n",
        "\n",
        "pipeline_linsvc = Pipeline([\n",
        "    ('scaler', StandardScaler()),\n",
        "    ('linearsvc', LinearSVC(dual=False, max_iter=10000))\n",
        "])\n",
        "\n",
        "# Perform GridSearchCV for SVC\n",
        "grid_search_svc = GridSearchCV(pipeline_svc, param_grid_svc, cv=5, verbose=3, scoring='f1', n_jobs=-1)\n",
        "grid_search_svc.fit(X_train_reduced, y_train_binary)\n",
        "\n",
        "# Perform GridSearchCV for LinearSVC\n",
        "grid_search_linsvc = GridSearchCV(pipeline_linsvc, param_grid_linsvc, cv=5, verbose=3, scoring='f1', n_jobs=-1)\n",
        "grid_search_linsvc.fit(X_train_reduced, y_train_binary)\n",
        "\n",
        "# Store best estimators and their scores\n",
        "models = {\n",
        "    \"SVC (Poly Kernel)\": (grid_search_svc.best_estimator_, grid_search_svc.best_score_),\n",
        "    \"Linear SVC\": (grid_search_linsvc.best_estimator_, grid_search_linsvc.best_score_)\n",
        "}\n",
        "\n",
        "# Select the best-performing model\n",
        "best_model_name = max(models, key=lambda x: models[x][1])\n",
        "best_model = models[best_model_name][0]\n",
        "\n",
        "# Print results\n",
        "print(f\"Best Model: {best_model_name}\")\n",
        "print(\"Best Estimator:\", best_model)\n",
        "print(\"Best Score:\", models[best_model_name][1])\n"
      ]
    },
    {
      "cell_type": "markdown",
      "metadata": {
        "id": "btW2i1drjf2G"
      },
      "source": [
        "# Problem 3: Evaluation (20 pts)\n",
        "Using the best estimator you found in the previous problem, print the confusion matrix and F1 score.  You may use cross-validation methods (e.g., `cross_val_predict`) or the validation hold-out set for this problem; however, you should not yet use the test data set (last 10,000 records)."
      ]
    },
    {
      "cell_type": "code",
      "execution_count": null,
      "metadata": {
        "id": "Z2GGnkprfQqF"
      },
      "outputs": [],
      "source": [
        "#confusion matrix display function\n",
        "from sklearn.metrics import ConfusionMatrixDisplay\n",
        "import seaborn as sns\n",
        "def confusion_matrix_heatmap(cm: np.ndarray, fsize:int=1, fmt:str=\",\",\n",
        "                             cmap=None) -> plt.Figure:\n",
        "  sns.set_theme(font_scale=fsize)\n",
        "  fig, ax = plt.subplots(figsize=(5,5))\n",
        "  ConfusionMatrixDisplay(cm).plot(values_format=fmt, cmap=cmap, ax=ax)\n",
        "  ax.grid(False)\n",
        "  return fig"
      ]
    },
    {
      "cell_type": "code",
      "execution_count": null,
      "metadata": {
        "id": "T7MpG81D4zTX",
        "outputId": "3dc649cc-a551-4d89-cac9-4c4c62f8439e",
        "colab": {
          "base_uri": "https://localhost:8080/",
          "height": 614
        }
      },
      "outputs": [
        {
          "output_type": "stream",
          "name": "stdout",
          "text": [
            "Training Set Classification Report:\n",
            "              precision    recall  f1-score   support\n",
            "\n",
            "           0       0.95      0.95      0.95      4869\n",
            "           1       0.96      0.95      0.95      5131\n",
            "\n",
            "    accuracy                           0.95     10000\n",
            "   macro avg       0.95      0.95      0.95     10000\n",
            "weighted avg       0.95      0.95      0.95     10000\n",
            "\n"
          ]
        },
        {
          "output_type": "display_data",
          "data": {
            "text/plain": [
              "<Figure size 500x500 with 2 Axes>"
            ],
            "image/png": "[encoded data removed]"
          },
          "metadata": {}
        }
      ],
      "source": [
        "from sklearn.model_selection import cross_val_predict\n",
        "from sklearn.metrics import classification_report, confusion_matrix\n",
        "from sklearn.decomposition import PCA\n",
        "import matplotlib.pyplot as plt\n",
        "\n",
        "# Apply PCA on training data (this should already have been done before)\n",
        "pca = PCA(n_components=33)  # Use the same number of components you used earlier\n",
        "X_train_reduced = pca.fit_transform(X_train)  # Apply PCA to the training data\n",
        "\n",
        "# Training Set Evaluation (using cross-validation)\n",
        "y_prediction_train = cross_val_predict(best_model, X_train_reduced, y_train_binary, cv=3)\n",
        "\n",
        "# Classification Report and Confusion Matrix for Training Set\n",
        "print(\"Training Set Classification Report:\")\n",
        "print(classification_report(y_train_binary, y_prediction_train))\n",
        "\n",
        "# Compute confusion matrix for training set\n",
        "cm_train = confusion_matrix(y_train_binary, y_prediction_train)\n",
        "\n",
        "# Plot confusion matrix for training set using ConfusionMatrixDisplay\n",
        "sns.set_theme(font_scale=1.2)\n",
        "fig, ax = plt.subplots(figsize=(5, 5))\n",
        "ConfusionMatrixDisplay(confusion_matrix=cm_train).plot(values_format=\"d\", cmap=\"Blues\", ax=ax)\n",
        "ax.grid(False)\n",
        "plt.show()\n",
        "\n",
        "\n",
        "\n",
        "\n"
      ]
    }
  ],
  "metadata": {
    "colab": {
      "provenance": []
    },
    "kernelspec": {
      "display_name": "Python 3",
      "name": "python3"
    },
    "language_info": {
      "name": "python"
    }
  },
  "nbformat": 4,
  "nbformat_minor": 0
}